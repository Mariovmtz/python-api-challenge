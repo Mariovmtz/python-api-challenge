{
 "cells": [
  {
   "cell_type": "markdown",
   "metadata": {},
   "source": [
    "# VacationPy\n",
    "----\n",
    "\n",
    "#### Note\n",
    "* Instructions have been included for each segment. You do not have to follow them exactly, but they are included to help you think through the steps."
   ]
  },
  {
   "cell_type": "code",
   "execution_count": 78,
   "metadata": {},
   "outputs": [],
   "source": [
    "# Dependencies and Setup\n",
    "import matplotlib.pyplot as plt\n",
    "import pandas as pd\n",
    "import numpy as np\n",
    "import requests\n",
    "import gmaps\n",
    "import os\n",
    "import ipywidgets as widgets\n",
    "\n",
    "# Import API key\n",
    "from api_keys import g_key"
   ]
  },
  {
   "cell_type": "markdown",
   "metadata": {},
   "source": [
    "### Store Part I results into DataFrame\n",
    "* Load the csv exported in Part I to a DataFrame"
   ]
  },
  {
   "cell_type": "code",
   "execution_count": 85,
   "metadata": {},
   "outputs": [
    {
     "name": "stdout",
     "output_type": "stream",
     "text": [
      "Unnamed: 0      int64\n",
      "Name           object\n",
      "Cloudiness      int64\n",
      "Country        object\n",
      "Date            int64\n",
      "Humidity        int64\n",
      "Lat           float64\n",
      "Lng           float64\n",
      "Max Temp      float64\n",
      "Wind Speed    float64\n",
      "dtype: object\n"
     ]
    },
    {
     "data": {
      "text/plain": [
       "100"
      ]
     },
     "execution_count": 85,
     "metadata": {},
     "output_type": "execute_result"
    }
   ],
   "source": [
    "cities = pd.read_csv(os.path.join(\"..\",\"WeatherPy\",\"output_data\",\"cities.csv\"))\n",
    "print(cities.dtypes)\n",
    "cities[\"Humidity\"].max()"
   ]
  },
  {
   "cell_type": "markdown",
   "metadata": {},
   "source": [
    "### Humidity Heatmap\n",
    "* Configure gmaps.\n",
    "* Use the Lat and Lng as locations and Humidity as the weight.\n",
    "* Add Heatmap layer to map."
   ]
  },
  {
   "cell_type": "code",
   "execution_count": 86,
   "metadata": {},
   "outputs": [],
   "source": [
    "gmaps.configure(api_key=g_key)"
   ]
  },
  {
   "cell_type": "code",
   "execution_count": 87,
   "metadata": {},
   "outputs": [
    {
     "data": {
      "application/vnd.jupyter.widget-view+json": {
       "model_id": "82f42bbe53e84e8eba07e9b615b89ec9",
       "version_major": 2,
       "version_minor": 0
      },
      "text/plain": [
       "Figure(layout=FigureLayout(height='420px'))"
      ]
     },
     "metadata": {},
     "output_type": "display_data"
    }
   ],
   "source": [
    "pic = gmaps.figure()\n",
    "heatLayer = gmaps.heatmap_layer(cities[[\"Lat\", \"Lng\"]], weights=cities[\"Humidity\"],max_intensity=cities[\"Humidity\"].max(), point_radius=1, dissipating=False)\n",
    "pic.add_layer(heatLayer)\n",
    "pic"
   ]
  },
  {
   "cell_type": "markdown",
   "metadata": {},
   "source": [
    "### Create new DataFrame fitting weather criteria\n",
    "* Narrow down the cities to fit weather conditions.\n",
    "* Drop any rows will null values."
   ]
  },
  {
   "cell_type": "code",
   "execution_count": 22,
   "metadata": {},
   "outputs": [
    {
     "name": "stdout",
     "output_type": "stream",
     "text": [
      "83.08\n",
      "71.6\n",
      "0\n",
      "0\n",
      "4.03\n",
      "1.36\n",
      "Unnamed: 0    7\n",
      "Name          7\n",
      "Cloudiness    7\n",
      "Country       7\n",
      "Date          7\n",
      "Humidity      7\n",
      "Lat           7\n",
      "Lng           7\n",
      "Max Temp      7\n",
      "Wind Speed    7\n",
      "dtype: int64\n"
     ]
    }
   ],
   "source": [
    "ideal_places_df = cities.loc[(cities[\"Max Temp\"] > 68) & \n",
    "                             (cities[\"Max Temp\"] < 87) & \n",
    "                             (cities[\"Cloudiness\"] == 0) & \n",
    "                             (cities[\"Wind Speed\"] < 5)]\n",
    "\n",
    "print(ideal_places_df[\"Max Temp\"].max())\n",
    "print(ideal_places_df[\"Max Temp\"].min())\n",
    "print(ideal_places_df[\"Cloudiness\"].max())\n",
    "print(ideal_places_df[\"Cloudiness\"].min())\n",
    "print(ideal_places_df[\"Wind Speed\"].max())\n",
    "print(ideal_places_df[\"Wind Speed\"].min())\n",
    "print(ideal_places_df.count())\n",
    "# no need to use dropna() because there are no null values"
   ]
  },
  {
   "cell_type": "markdown",
   "metadata": {},
   "source": [
    "### Hotel Map\n",
    "* Store into variable named `hotel_df`.\n",
    "* Add a \"Hotel Name\" column to the DataFrame.\n",
    "* Set parameters to search for hotels with 5000 meters.\n",
    "* Hit the Google Places API for each city's coordinates.\n",
    "* Store the first Hotel result into the DataFrame.\n",
    "* Plot markers on top of the heatmap."
   ]
  },
  {
   "cell_type": "code",
   "execution_count": 50,
   "metadata": {},
   "outputs": [
    {
     "name": "stderr",
     "output_type": "stream",
     "text": [
      "/home/mario/anaconda3/lib/python3.7/site-packages/ipykernel_launcher.py:2: SettingWithCopyWarning: \n",
      "A value is trying to be set on a copy of a slice from a DataFrame.\n",
      "Try using .loc[row_indexer,col_indexer] = value instead\n",
      "\n",
      "See the caveats in the documentation: https://pandas.pydata.org/pandas-docs/stable/user_guide/indexing.html#returning-a-view-versus-a-copy\n",
      "  \n"
     ]
    },
    {
     "data": {
      "text/html": [
       "<div>\n",
       "<style scoped>\n",
       "    .dataframe tbody tr th:only-of-type {\n",
       "        vertical-align: middle;\n",
       "    }\n",
       "\n",
       "    .dataframe tbody tr th {\n",
       "        vertical-align: top;\n",
       "    }\n",
       "\n",
       "    .dataframe thead th {\n",
       "        text-align: right;\n",
       "    }\n",
       "</style>\n",
       "<table border=\"1\" class=\"dataframe\">\n",
       "  <thead>\n",
       "    <tr style=\"text-align: right;\">\n",
       "      <th></th>\n",
       "      <th>Unnamed: 0</th>\n",
       "      <th>Name</th>\n",
       "      <th>Cloudiness</th>\n",
       "      <th>Country</th>\n",
       "      <th>Date</th>\n",
       "      <th>Humidity</th>\n",
       "      <th>Lat</th>\n",
       "      <th>Lng</th>\n",
       "      <th>Max Temp</th>\n",
       "      <th>Wind Speed</th>\n",
       "      <th>Hotel Name</th>\n",
       "    </tr>\n",
       "  </thead>\n",
       "  <tbody>\n",
       "    <tr>\n",
       "      <th>11</th>\n",
       "      <td>11</td>\n",
       "      <td>Rikitea</td>\n",
       "      <td>0</td>\n",
       "      <td>PF</td>\n",
       "      <td>1589317468</td>\n",
       "      <td>66</td>\n",
       "      <td>-23.12</td>\n",
       "      <td>-134.97</td>\n",
       "      <td>74.25</td>\n",
       "      <td>2.59</td>\n",
       "      <td></td>\n",
       "    </tr>\n",
       "    <tr>\n",
       "      <th>15</th>\n",
       "      <td>15</td>\n",
       "      <td>Abu Kamal</td>\n",
       "      <td>0</td>\n",
       "      <td>SY</td>\n",
       "      <td>1589317469</td>\n",
       "      <td>27</td>\n",
       "      <td>34.45</td>\n",
       "      <td>40.92</td>\n",
       "      <td>77.54</td>\n",
       "      <td>2.30</td>\n",
       "      <td></td>\n",
       "    </tr>\n",
       "    <tr>\n",
       "      <th>113</th>\n",
       "      <td>113</td>\n",
       "      <td>Bilma</td>\n",
       "      <td>0</td>\n",
       "      <td>NE</td>\n",
       "      <td>1589317493</td>\n",
       "      <td>13</td>\n",
       "      <td>18.69</td>\n",
       "      <td>12.92</td>\n",
       "      <td>82.81</td>\n",
       "      <td>1.83</td>\n",
       "      <td></td>\n",
       "    </tr>\n",
       "    <tr>\n",
       "      <th>133</th>\n",
       "      <td>133</td>\n",
       "      <td>Faya</td>\n",
       "      <td>0</td>\n",
       "      <td>SA</td>\n",
       "      <td>1589317498</td>\n",
       "      <td>73</td>\n",
       "      <td>18.39</td>\n",
       "      <td>42.45</td>\n",
       "      <td>71.60</td>\n",
       "      <td>1.36</td>\n",
       "      <td></td>\n",
       "    </tr>\n",
       "    <tr>\n",
       "      <th>401</th>\n",
       "      <td>401</td>\n",
       "      <td>Nizwá</td>\n",
       "      <td>0</td>\n",
       "      <td>OM</td>\n",
       "      <td>1589317566</td>\n",
       "      <td>21</td>\n",
       "      <td>22.93</td>\n",
       "      <td>57.53</td>\n",
       "      <td>83.08</td>\n",
       "      <td>2.64</td>\n",
       "      <td></td>\n",
       "    </tr>\n",
       "    <tr>\n",
       "      <th>413</th>\n",
       "      <td>413</td>\n",
       "      <td>Rodolfo Sánchez Taboada</td>\n",
       "      <td>0</td>\n",
       "      <td>MX</td>\n",
       "      <td>1589317569</td>\n",
       "      <td>72</td>\n",
       "      <td>31.72</td>\n",
       "      <td>-116.57</td>\n",
       "      <td>72.00</td>\n",
       "      <td>4.00</td>\n",
       "      <td></td>\n",
       "    </tr>\n",
       "    <tr>\n",
       "      <th>519</th>\n",
       "      <td>519</td>\n",
       "      <td>Antsohihy</td>\n",
       "      <td>0</td>\n",
       "      <td>MG</td>\n",
       "      <td>1589317593</td>\n",
       "      <td>81</td>\n",
       "      <td>-14.88</td>\n",
       "      <td>47.99</td>\n",
       "      <td>73.60</td>\n",
       "      <td>4.03</td>\n",
       "      <td></td>\n",
       "    </tr>\n",
       "  </tbody>\n",
       "</table>\n",
       "</div>"
      ],
      "text/plain": [
       "     Unnamed: 0                     Name  Cloudiness Country        Date  \\\n",
       "11           11                  Rikitea           0      PF  1589317468   \n",
       "15           15                Abu Kamal           0      SY  1589317469   \n",
       "113         113                    Bilma           0      NE  1589317493   \n",
       "133         133                     Faya           0      SA  1589317498   \n",
       "401         401                    Nizwá           0      OM  1589317566   \n",
       "413         413  Rodolfo Sánchez Taboada           0      MX  1589317569   \n",
       "519         519                Antsohihy           0      MG  1589317593   \n",
       "\n",
       "     Humidity    Lat     Lng  Max Temp  Wind Speed Hotel Name  \n",
       "11         66 -23.12 -134.97     74.25        2.59             \n",
       "15         27  34.45   40.92     77.54        2.30             \n",
       "113        13  18.69   12.92     82.81        1.83             \n",
       "133        73  18.39   42.45     71.60        1.36             \n",
       "401        21  22.93   57.53     83.08        2.64             \n",
       "413        72  31.72 -116.57     72.00        4.00             \n",
       "519        81 -14.88   47.99     73.60        4.03             "
      ]
     },
     "execution_count": 50,
     "metadata": {},
     "output_type": "execute_result"
    }
   ],
   "source": [
    "hotel_df = ideal_places_df\n",
    "hotel_df[\"Hotel Name\"] = \"\"\n",
    "\n",
    "hotel_df"
   ]
  },
  {
   "cell_type": "code",
   "execution_count": 51,
   "metadata": {},
   "outputs": [],
   "source": [
    "parameters = {\n",
    "              \"radius\":5000,\n",
    "              \"keyword\":\"hotel\",\n",
    "              \"types\":\"hotel\",\n",
    "              \"key\":g_key\n",
    "             }\n",
    "\n",
    "url = \"https://maps.googleapis.com/maps/api/place/nearbysearch/json\""
   ]
  },
  {
   "cell_type": "code",
   "execution_count": 71,
   "metadata": {},
   "outputs": [],
   "source": [
    "for idx, row in hotel_df.iterrows():\n",
    "        parameters[\"location\"] = f'{row[\"Lat\"]},{row[\"Lng\"]}'\n",
    "        response = requests.get(url, parameters).json()\n",
    "        \n",
    "        if response['status'] == \"OK\":\n",
    "             hotel_df.at[idx,'Hotel Name'] = response['results'][0]['name']\n",
    "        else:\n",
    "            hotel_df.at[idx,'Hotel Name']= \"Not Found\""
   ]
  },
  {
   "cell_type": "code",
   "execution_count": 72,
   "metadata": {},
   "outputs": [
    {
     "data": {
      "text/html": [
       "<div>\n",
       "<style scoped>\n",
       "    .dataframe tbody tr th:only-of-type {\n",
       "        vertical-align: middle;\n",
       "    }\n",
       "\n",
       "    .dataframe tbody tr th {\n",
       "        vertical-align: top;\n",
       "    }\n",
       "\n",
       "    .dataframe thead th {\n",
       "        text-align: right;\n",
       "    }\n",
       "</style>\n",
       "<table border=\"1\" class=\"dataframe\">\n",
       "  <thead>\n",
       "    <tr style=\"text-align: right;\">\n",
       "      <th></th>\n",
       "      <th>Unnamed: 0</th>\n",
       "      <th>Name</th>\n",
       "      <th>Cloudiness</th>\n",
       "      <th>Country</th>\n",
       "      <th>Date</th>\n",
       "      <th>Humidity</th>\n",
       "      <th>Lat</th>\n",
       "      <th>Lng</th>\n",
       "      <th>Max Temp</th>\n",
       "      <th>Wind Speed</th>\n",
       "      <th>Hotel Name</th>\n",
       "    </tr>\n",
       "  </thead>\n",
       "  <tbody>\n",
       "    <tr>\n",
       "      <th>11</th>\n",
       "      <td>11</td>\n",
       "      <td>Rikitea</td>\n",
       "      <td>0</td>\n",
       "      <td>PF</td>\n",
       "      <td>1589317468</td>\n",
       "      <td>66</td>\n",
       "      <td>-23.12</td>\n",
       "      <td>-134.97</td>\n",
       "      <td>74.25</td>\n",
       "      <td>2.59</td>\n",
       "      <td>Pension Maro'i</td>\n",
       "    </tr>\n",
       "    <tr>\n",
       "      <th>15</th>\n",
       "      <td>15</td>\n",
       "      <td>Abu Kamal</td>\n",
       "      <td>0</td>\n",
       "      <td>SY</td>\n",
       "      <td>1589317469</td>\n",
       "      <td>27</td>\n",
       "      <td>34.45</td>\n",
       "      <td>40.92</td>\n",
       "      <td>77.54</td>\n",
       "      <td>2.30</td>\n",
       "      <td>Not Found</td>\n",
       "    </tr>\n",
       "    <tr>\n",
       "      <th>113</th>\n",
       "      <td>113</td>\n",
       "      <td>Bilma</td>\n",
       "      <td>0</td>\n",
       "      <td>NE</td>\n",
       "      <td>1589317493</td>\n",
       "      <td>13</td>\n",
       "      <td>18.69</td>\n",
       "      <td>12.92</td>\n",
       "      <td>82.81</td>\n",
       "      <td>1.83</td>\n",
       "      <td>Not Found</td>\n",
       "    </tr>\n",
       "    <tr>\n",
       "      <th>133</th>\n",
       "      <td>133</td>\n",
       "      <td>Faya</td>\n",
       "      <td>0</td>\n",
       "      <td>SA</td>\n",
       "      <td>1589317498</td>\n",
       "      <td>73</td>\n",
       "      <td>18.39</td>\n",
       "      <td>42.45</td>\n",
       "      <td>71.60</td>\n",
       "      <td>1.36</td>\n",
       "      <td>Not Found</td>\n",
       "    </tr>\n",
       "    <tr>\n",
       "      <th>401</th>\n",
       "      <td>401</td>\n",
       "      <td>Nizwá</td>\n",
       "      <td>0</td>\n",
       "      <td>OM</td>\n",
       "      <td>1589317566</td>\n",
       "      <td>21</td>\n",
       "      <td>22.93</td>\n",
       "      <td>57.53</td>\n",
       "      <td>83.08</td>\n",
       "      <td>2.64</td>\n",
       "      <td>Al Diyar Hotel</td>\n",
       "    </tr>\n",
       "    <tr>\n",
       "      <th>413</th>\n",
       "      <td>413</td>\n",
       "      <td>Rodolfo Sánchez Taboada</td>\n",
       "      <td>0</td>\n",
       "      <td>MX</td>\n",
       "      <td>1589317569</td>\n",
       "      <td>72</td>\n",
       "      <td>31.72</td>\n",
       "      <td>-116.57</td>\n",
       "      <td>72.00</td>\n",
       "      <td>4.00</td>\n",
       "      <td>Not Found</td>\n",
       "    </tr>\n",
       "    <tr>\n",
       "      <th>519</th>\n",
       "      <td>519</td>\n",
       "      <td>Antsohihy</td>\n",
       "      <td>0</td>\n",
       "      <td>MG</td>\n",
       "      <td>1589317593</td>\n",
       "      <td>81</td>\n",
       "      <td>-14.88</td>\n",
       "      <td>47.99</td>\n",
       "      <td>73.60</td>\n",
       "      <td>4.03</td>\n",
       "      <td>Hotel Belle Vue</td>\n",
       "    </tr>\n",
       "  </tbody>\n",
       "</table>\n",
       "</div>"
      ],
      "text/plain": [
       "     Unnamed: 0                     Name  Cloudiness Country        Date  \\\n",
       "11           11                  Rikitea           0      PF  1589317468   \n",
       "15           15                Abu Kamal           0      SY  1589317469   \n",
       "113         113                    Bilma           0      NE  1589317493   \n",
       "133         133                     Faya           0      SA  1589317498   \n",
       "401         401                    Nizwá           0      OM  1589317566   \n",
       "413         413  Rodolfo Sánchez Taboada           0      MX  1589317569   \n",
       "519         519                Antsohihy           0      MG  1589317593   \n",
       "\n",
       "     Humidity    Lat     Lng  Max Temp  Wind Speed       Hotel Name  \n",
       "11         66 -23.12 -134.97     74.25        2.59   Pension Maro'i  \n",
       "15         27  34.45   40.92     77.54        2.30        Not Found  \n",
       "113        13  18.69   12.92     82.81        1.83        Not Found  \n",
       "133        73  18.39   42.45     71.60        1.36        Not Found  \n",
       "401        21  22.93   57.53     83.08        2.64   Al Diyar Hotel  \n",
       "413        72  31.72 -116.57     72.00        4.00        Not Found  \n",
       "519        81 -14.88   47.99     73.60        4.03  Hotel Belle Vue  "
      ]
     },
     "execution_count": 72,
     "metadata": {},
     "output_type": "execute_result"
    }
   ],
   "source": [
    "hotel_df\n"
   ]
  },
  {
   "cell_type": "code",
   "execution_count": 75,
   "metadata": {},
   "outputs": [],
   "source": [
    "# NOTE: Do not change any of the code in this cell\n",
    "\n",
    "# Using the template add the hotel marks to the heatmap\n",
    "info_box_template = \"\"\"\n",
    "<dl>\n",
    "<dt>Name</dt><dd>{Hotel Name}</dd>\n",
    "<dt>City</dt><dd>{Name}</dd>\n",
    "<dt>Country</dt><dd>{Country}</dd>\n",
    "</dl>\n",
    "\"\"\"\n",
    "# Store the DataFrame Row\n",
    "# NOTE: be sure to update with your DataFrame name\n",
    "hotel_info = [info_box_template.format(**row) for index, row in hotel_df.iterrows()]\n",
    "locations = hotel_df[[\"Lat\", \"Lng\"]]"
   ]
  },
  {
   "cell_type": "code",
   "execution_count": 77,
   "metadata": {},
   "outputs": [
    {
     "data": {
      "application/vnd.jupyter.widget-view+json": {
       "model_id": "988ca6db504442baab3f668688abb80e",
       "version_major": 2,
       "version_minor": 0
      },
      "text/plain": [
       "Figure(layout=FigureLayout(height='420px'))"
      ]
     },
     "metadata": {},
     "output_type": "display_data"
    }
   ],
   "source": [
    "# Add marker layer ontop of heat map\n",
    "marks = gmaps.marker_layer(locations)\n",
    "pic.add_layer(marks)\n",
    "pic\n",
    "\n",
    "# Display Map"
   ]
  },
  {
   "cell_type": "code",
   "execution_count": null,
   "metadata": {},
   "outputs": [],
   "source": []
  }
 ],
 "metadata": {
  "kernelspec": {
   "display_name": "Python 3",
   "language": "python",
   "name": "python3"
  },
  "language_info": {
   "codemirror_mode": {
    "name": "ipython",
    "version": 3
   },
   "file_extension": ".py",
   "mimetype": "text/x-python",
   "name": "python",
   "nbconvert_exporter": "python",
   "pygments_lexer": "ipython3",
   "version": "3.7.6"
  },
  "latex_envs": {
   "LaTeX_envs_menu_present": true,
   "autoclose": false,
   "autocomplete": true,
   "bibliofile": "biblio.bib",
   "cite_by": "apalike",
   "current_citInitial": 1,
   "eqLabelWithNumbers": true,
   "eqNumInitial": 1,
   "hotkeys": {
    "equation": "Ctrl-E",
    "itemize": "Ctrl-I"
   },
   "labels_anchors": false,
   "latex_user_defs": false,
   "report_style_numbering": false,
   "user_envs_cfg": false
  }
 },
 "nbformat": 4,
 "nbformat_minor": 2
}
